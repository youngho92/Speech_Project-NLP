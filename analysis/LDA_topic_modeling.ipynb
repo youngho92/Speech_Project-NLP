{
 "cells": [
  {
   "cell_type": "code",
   "execution_count": 16,
   "metadata": {
    "collapsed": true
   },
   "outputs": [],
   "source": [
    "## import packages\n",
    "from sklearn.feature_extraction.text import TfidfVectorizer, CountVectorizer\n",
    "from sklearn.decomposition import NMF, LatentDirichletAllocation\n",
    "from nltk.corpus import stopwords\n",
    "from nltk.stem.porter import PorterStemmer\n",
    "from nltk.tokenize import word_tokenize\n",
    "from textblob import TextBlob"
   ]
  },
  {
   "cell_type": "code",
   "execution_count": 17,
   "metadata": {
    "collapsed": true
   },
   "outputs": [],
   "source": [
    "## load all speeches\n",
    "with open('speeches.json') as json_data:\n",
    "    speeches = json.load(json_data)\n",
    "    json_data.close()"
   ]
  },
  {
   "cell_type": "code",
   "execution_count": 18,
   "metadata": {
    "collapsed": true
   },
   "outputs": [],
   "source": [
    "## clean the data by each year\n",
    "df = defaultdict(list)\n",
    "for speech in speeches:\n",
    "    year = int(speech['title'].split(':')[0].split(',')[1])\n",
    "    df[year].append(speech['transcript'])"
   ]
  },
  {
   "cell_type": "code",
   "execution_count": 19,
   "metadata": {
    "collapsed": true
   },
   "outputs": [],
   "source": [
    "## merge all speeches from 1900 for LDA\n",
    "trans = \"\"\n",
    "for year in range(1900, 2017):\n",
    "    if df[year]:\n",
    "        trans_temp = ' '.join(df[year][0])\n",
    "        trans += ' '.join(word_tokenize(trans_temp))"
   ]
  },
  {
   "cell_type": "code",
   "execution_count": 20,
   "metadata": {
    "collapsed": true
   },
   "outputs": [],
   "source": [
    "## extract words from the transcript\n",
    "gatsby = TextBlob(trans)\n",
    "trans_nlp = [t[0] for t in gatsby.tags if t[1] == 'JJ']"
   ]
  },
  {
   "cell_type": "markdown",
   "metadata": {},
   "source": [
    "**LDA Analysis**"
   ]
  },
  {
   "cell_type": "code",
   "execution_count": 21,
   "metadata": {
    "collapsed": false
   },
   "outputs": [],
   "source": [
    "## number of features\n",
    "no_features = 500\n",
    "\n",
    "## LDA can only use raw term counts for LDA because it is a probabilistic graphical model\n",
    "tf_vectorizer = CountVectorizer(max_df=0.99, min_df=2, max_features=no_features, stop_words='english')\n",
    "tf = tf_vectorizer.fit_transform(trans_nlp)\n",
    "no_topics = 10\n",
    "lda = LatentDirichletAllocation(n_topics=no_topics, max_iter=5, learning_method='online', learning_offset=50.,random_state=0).fit(tf)\n",
    "tf_feature_names = tf_vectorizer.get_feature_names()"
   ]
  },
  {
   "cell_type": "code",
   "execution_count": 23,
   "metadata": {
    "collapsed": true
   },
   "outputs": [],
   "source": [
    "def display_topics(model, feature_names, no_top_words):\n",
    "    for topic_idx, topic in enumerate(model.components_):\n",
    "        print (\"Topic %d:\" % (topic_idx))\n",
    "        print (\" \".join([feature_names[i]\n",
    "                        for i in topic.argsort()[:-no_top_words - 1:-1]]))"
   ]
  },
  {
   "cell_type": "code",
   "execution_count": 24,
   "metadata": {
    "collapsed": false,
    "scrolled": true
   },
   "outputs": [
    {
     "name": "stdout",
     "output_type": "stream",
     "text": [
      "Topic 0:\n",
      "important able large general small right clear open ready joint annual strategic sound grateful competitive terrible urgent generous favorable potential\n",
      "Topic 1:\n",
      "necessary possible true young real local permanent available individual simple independent illegal main satisfactory congressional appropriate western late considerable republican\n",
      "Topic 2:\n",
      "good public essential recent industrial willing future additional naval impossible reasonable vast particular constitutional enormous minimum constant terrorist rural indian\n",
      "Topic 3:\n",
      "military nuclear certain strong different old effective proper federal immediate fiscal modern practical previous interested safe average united bipartisan governmental\n",
      "Topic 4:\n",
      "present political past international private social entire adequate similar short efficient term constructive wonderful cold postal wide normal capable voluntary\n",
      "Topic 5:\n",
      "american great high single vital proud early wrong complete bad natural british ordinary day helpful happy anti increased innocent extra\n",
      "Topic 6:\n",
      "long soviet second democratic difficult civil various total basic tough responsible specific final global low likely current steady useful european\n",
      "Topic 7:\n",
      "new national special hard major financial equal successful domestic fundamental legislative deep historic confident interstate administrative limited mere unemployed prepared\n",
      "Topic 8:\n",
      "free common little fellow fair commercial easy temporary direct actual friendly comprehensive medical careful german stable cooperative powerful continued partisan\n",
      "Topic 9:\n",
      "economic foreign human sure big personal dangerous mutual moral agricultural diplomatic poor peaceful self substantial desirable middle chinese legal rich\n"
     ]
    }
   ],
   "source": [
    "no_top_words=20\n",
    "display_topics(lda, tf_feature_names, no_top_words)"
   ]
  },
  {
   "cell_type": "markdown",
   "metadata": {},
   "source": [
    "**LDA for bad years**"
   ]
  },
  {
   "cell_type": "code",
   "execution_count": 25,
   "metadata": {
    "collapsed": true
   },
   "outputs": [],
   "source": [
    "bad_years = list(range(1939, 1945)) + list(range(1979, 1982)) + list(range(2008, 2009))"
   ]
  },
  {
   "cell_type": "code",
   "execution_count": 27,
   "metadata": {
    "collapsed": true
   },
   "outputs": [],
   "source": [
    "## merge all speeches during bad years\n",
    "\n",
    "trans = \"\"\n",
    "for year in range(1900, 2017):\n",
    "    if year in bad_years and df[year]:\n",
    "        trans_temp = ' '.join(df[year][0])\n",
    "        trans += ' '.join(word_tokenize(trans_temp))\n",
    "gatsby = TextBlob(trans)\n",
    "trans_nlp = [t[0] for t in gatsby.tags if t[1] == 'JJ' or t[1] == 'NN']"
   ]
  },
  {
   "cell_type": "code",
   "execution_count": 28,
   "metadata": {
    "collapsed": false
   },
   "outputs": [
    {
     "name": "stdout",
     "output_type": "stream",
     "text": [
      "Topic 0:\n",
      "military today life defense problem bankruptcy money condition matter second\n",
      "Topic 1:\n",
      "american peace important auto opportunity strength young major competitive spirit\n",
      "Topic 2:\n",
      "fact service treaty day air program fiscal commitment city support\n",
      "Topic 3:\n",
      "year time great office subject nuclear order purpose production value\n",
      "Topic 4:\n",
      "war good social importance work indian act free rate plan\n",
      "Topic 5:\n",
      "world security policy foreign necessary action cost total case threat\n",
      "Topic 6:\n",
      "country new oil law tax way man long economy special\n",
      "Topic 7:\n",
      "question energy public past report inflation force course history economic\n",
      "Topic 8:\n",
      "nation increase present legislation national number business cent crisis unemployment\n",
      "Topic 9:\n",
      "future attention government percent power large right effort consideration british\n"
     ]
    }
   ],
   "source": [
    "## use countervectorizer for LDA topic modeling\n",
    "tf_vectorizer = CountVectorizer(max_df=0.99, min_df=2, max_features=no_features, stop_words='english')\n",
    "tf = tf_vectorizer.fit_transform(trans_nlp)\n",
    "\n",
    "## conduct LDA topic modeling with 10 topics and 10 words\n",
    "no_topics = 10\n",
    "no_top_words=10\n",
    "lda = LatentDirichletAllocation(n_topics=no_topics, max_iter=5, learning_method='online', learning_offset=50.,random_state=0).fit(tf)\n",
    "tf_feature_names = tf_vectorizer.get_feature_names()\n",
    "display_topics(lda, tf_feature_names, no_top_words)"
   ]
  },
  {
   "cell_type": "markdown",
   "metadata": {},
   "source": [
    "**LDA for good years**"
   ]
  },
  {
   "cell_type": "code",
   "execution_count": 29,
   "metadata": {
    "collapsed": true
   },
   "outputs": [],
   "source": [
    "good_years = list(range(1947, 1955)) + list(range(1999, 2002))"
   ]
  },
  {
   "cell_type": "code",
   "execution_count": 31,
   "metadata": {
    "collapsed": true
   },
   "outputs": [],
   "source": [
    "## merge all speeches during good years\n",
    "\n",
    "trans = \"\"\n",
    "for year in range(1900, 2017):\n",
    "    if year in good_years and df[year]:\n",
    "        trans_temp = ' '.join(df[year][0])\n",
    "        trans += ' '.join(word_tokenize(trans_temp))\n",
    "gatsby = TextBlob(trans)\n",
    "trans_nlp = [t[0] for t in gatsby.tags if t[1] == 'JJ' or t[1] == 'NN']"
   ]
  },
  {
   "cell_type": "code",
   "execution_count": 32,
   "metadata": {
    "collapsed": false
   },
   "outputs": [
    {
     "name": "stdout",
     "output_type": "stream",
     "text": [
      "Topic 0:\n",
      "world course life effort lot decision major religion investment communism\n",
      "Topic 1:\n",
      "time century gun economy important aggression help human young program\n",
      "Topic 2:\n",
      "new freedom way community tonight history college economic trade hope\n",
      "Topic 3:\n",
      "great home opportunity right day job bless 21st high service\n",
      "Topic 4:\n",
      "american war nation care family single race democratic man revolution\n",
      "Topic 5:\n",
      "good common prosperity poverty support big military grateful state democracy\n",
      "Topic 6:\n",
      "peace security work future challenge able credit budget welfare humanity\n",
      "Topic 7:\n",
      "responsibility health long action fellow global attack percent change growth\n",
      "Topic 8:\n",
      "free child office sure debt strong step ready goal environment\n",
      "Topic 9:\n",
      "year country tax today national technology plan science chance open\n"
     ]
    }
   ],
   "source": [
    "## use countervectorizer for LDA topic modeling\n",
    "tf_vectorizer = CountVectorizer(max_df=0.99, min_df=2, max_features=no_features, stop_words='english')\n",
    "tf = tf_vectorizer.fit_transform(trans_nlp)\n",
    "\n",
    "## conduct LDA topic modeling with 10 topics and 10 words\n",
    "no_topics = 10\n",
    "no_top_words=10\n",
    "lda = LatentDirichletAllocation(n_topics=no_topics, max_iter=5, learning_method='online', learning_offset=50.,random_state=0).fit(tf)\n",
    "tf_feature_names = tf_vectorizer.get_feature_names()\n",
    "display_topics(lda, tf_feature_names, no_top_words)"
   ]
  }
 ],
 "metadata": {
  "kernelspec": {
   "display_name": "Python 3",
   "language": "python",
   "name": "python3"
  },
  "language_info": {
   "codemirror_mode": {
    "name": "ipython",
    "version": 3
   },
   "file_extension": ".py",
   "mimetype": "text/x-python",
   "name": "python",
   "nbconvert_exporter": "python",
   "pygments_lexer": "ipython3",
   "version": "3.6.0"
  }
 },
 "nbformat": 4,
 "nbformat_minor": 2
}
